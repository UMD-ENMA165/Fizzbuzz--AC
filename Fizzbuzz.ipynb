{
 "cells": [
  {
   "cell_type": "markdown",
   "id": "1d4c4bc6-6647-43ae-86ba-75076aaa6dfa",
   "metadata": {},
   "source": [
    "1. Write a program that prints the numbers 1 to 100. (implement the 'main' function)"
   ]
  },
  {
   "cell_type": "code",
   "execution_count": 5,
   "id": "db376505-9069-438f-8b67-a71a42845f3b",
   "metadata": {},
   "outputs": [],
   "source": [
    "fb_list =list(range(101))"
   ]
  },
  {
   "cell_type": "markdown",
   "id": "d476c10f-0e09-44d1-aed5-b08ba7833dfc",
   "metadata": {},
   "source": [
    "2. Modify the program as following: \n",
    "- for multiples of three, print \"Fizz\" instead of the number\n",
    "- for multiples of five, print \"Buzz\"\n",
    "- for numbers which are multiples of both three and five, print \"FuzzBuzz\""
   ]
  },
  {
   "cell_type": "code",
   "execution_count": null,
   "id": "0d5b73d8-9620-4a14-8160-daefcce62e76",
   "metadata": {},
   "outputs": [],
   "source": [
    "\n",
    "for number in fb_list:\n",
    "    x = number\n",
    "    "
   ]
  }
 ],
 "metadata": {
  "kernelspec": {
   "display_name": "Python 3 (ipykernel)",
   "language": "python",
   "name": "python3"
  },
  "language_info": {
   "codemirror_mode": {
    "name": "ipython",
    "version": 3
   },
   "file_extension": ".py",
   "mimetype": "text/x-python",
   "name": "python",
   "nbconvert_exporter": "python",
   "pygments_lexer": "ipython3",
   "version": "3.9.13"
  }
 },
 "nbformat": 4,
 "nbformat_minor": 5
}
